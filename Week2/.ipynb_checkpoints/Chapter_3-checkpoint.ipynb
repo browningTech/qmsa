{
 "cells": [
  {
   "cell_type": "markdown",
   "metadata": {
    "slideshow": {
     "slide_type": "slide"
    }
   },
   "source": [
    "# Chapter 3 - Descriptive Statistics and Graphics"
   ]
  },
  {
   "cell_type": "markdown",
   "metadata": {
    "slideshow": {
     "slide_type": "slide"
    }
   },
   "source": [
    "# Learning Objectives\n",
    "* Understand the basic descriptive measures of central tendency\n",
    "* Understand the basic descriptive measures of dispersion\n",
    "* Understand the concept of relative variability\n",
    "* Determine the value of measuring shape or relative position\n",
    "* Realize potential effects of location data on descriptive statistics"
   ]
  },
  {
   "cell_type": "markdown",
   "metadata": {
    "slideshow": {
     "slide_type": "slide"
    }
   },
   "source": [
    "## Summarizing Data Sets\n",
    "* Measures of <b> central tendency </b>\n",
    " * Numbers that represent the center or typical value of a frequency distribution\n",
    " * Includes mode, median, and mean\n",
    " \n",
    "\n",
    "\n"
   ]
  },
  {
   "cell_type": "markdown",
   "metadata": {
    "slideshow": {
     "slide_type": "slide"
    }
   },
   "source": [
    "## Summarizing Data Sets\n",
    "* Measures of <b> dispersion </b>\n",
    " * Numbers that depict the amount of spread or variability in a data set\n",
    "     * Includes range, interquartile range, standard deviation, variance, and coefficient variation"
   ]
  },
  {
   "cell_type": "markdown",
   "metadata": {
    "slideshow": {
     "slide_type": "slide"
    }
   },
   "source": [
    "## Summarizing Data Sets\n",
    "* Measures of <b> shape or relative position </b>\n",
    " * Numbers that further describe the nature or shape of a frequency distribution\n",
    "     * Includes skewness – symmetry of a distribution\n",
    "     * Includes kurtosis – degree of flatness or peakedness in a distribution"
   ]
  },
  {
   "cell_type": "markdown",
   "metadata": {
    "slideshow": {
     "slide_type": "slide"
    }
   },
   "source": [
    "## Descriptive Statistics\n",
    "* Mode\n",
    " * Value that occurs most frequently\n",
    "* Median\n",
    " * Middle value from a set of ranked observations.  Value with equal number of data units above and below it.\n",
    "* Mean\n",
    " * The arithmetic average of the values"
   ]
  },
  {
   "cell_type": "markdown",
   "metadata": {
    "slideshow": {
     "slide_type": "slide"
    }
   },
   "source": [
    "<table>\n",
    "<tr>\n",
    "<td>\n",
    "<img src=\"../figures/book/McGrew-et-al_3E---Figure-3-1.jpg\" alt=\"Figure 3.1\" width=\"300\"/>\n",
    "</td>\n",
    "<td>\n",
    "<img src=\"../figures/book/McGrew-et-al_3E---Figure-3-2.jpg\" alt=\"Figure 3.1\" width=\"300\"/>\n",
    "</td>\n",
    "</tr>\n",
    "</table>"
   ]
  },
  {
   "cell_type": "markdown",
   "metadata": {
    "slideshow": {
     "slide_type": "slide"
    }
   },
   "source": [
    "## Descriptive Statistics\n",
    "* Weighted Mean\n",
    " * Arithmetic average calculated from class intervals and class frequencies (often aggregate total)\n",
    " * Assumptions\n",
    "    * Without information to the contrary, data are distributed evenly within the interval\n",
    "    * Best summary representation of the values in each interval is the class midpoint\n",
    "         * Class midpoint – value that is exactly midway between extreme values that identify the class interval"
   ]
  },
  {
   "cell_type": "markdown",
   "metadata": {
    "slideshow": {
     "slide_type": "slide"
    }
   },
   "source": [
    "## Relative Variability\n",
    "* Defined as the amount of spread in a set of variables\n",
    "* Spread can be measured in different ways\n",
    "    * Simplest measure of variability is the range - difference between largest and smallest value\n",
    "    * Quantiles are used to define intervals, portions, or percentiles\n",
    "    * Interquartile range – data is divided into 4 equal portions.  Difference between 25th and 75th percentile is the interquartile range"
   ]
  },
  {
   "cell_type": "markdown",
   "metadata": {
    "slideshow": {
     "slide_type": "slide"
    }
   },
   "source": [
    "## Standard Deviation and Variance\n",
    "* Standard Deviation\n",
    "    * The least squares property of the mean carries over into the most common measure of variability or dispersion\n",
    "* Variance\n",
    "    * The square of the standard deviation"
   ]
  },
  {
   "cell_type": "markdown",
   "metadata": {
    "slideshow": {
     "slide_type": "slide"
    }
   },
   "source": [
    "## Coefficient of Variation\n",
    "* The Coefficient of Variation (CV) is simply the standard deviation expressed relative to the magnitude of the mean:\n",
    "    * CV = s/mean or CF = (s/mean) * 100"
   ]
  },
  {
   "cell_type": "markdown",
   "metadata": {
    "slideshow": {
     "slide_type": "slide"
    }
   },
   "source": [
    "## Standard Normal Distribution\n",
    "* 68-95-99.7 rule"
   ]
  },
  {
   "cell_type": "markdown",
   "metadata": {
    "slideshow": {
     "slide_type": "slide"
    }
   },
   "source": [
    "# Measures of Shape or Relative Position\n",
    "* Skewness \n",
    "    * measures the degree of symmetry in a frequency distribution determines the extent to which the values are evenly or unevenly distributed on either side of the mean\n",
    "* Kurtosis \n",
    "    * measures flatness or peakedness of a data set"
   ]
  },
  {
   "cell_type": "markdown",
   "metadata": {
    "slideshow": {
     "slide_type": "slide"
    }
   },
   "source": [
    "# Spatial Data and Descriptive Statistics\n",
    "* The location of boundaries can affect various descriptive statistics\n",
    "* The level of aggregation can also descriptive statistics\n",
    "* MAUP (modifiable areal unit problem)\n",
    " "
   ]
  },
  {
   "cell_type": "markdown",
   "metadata": {
    "slideshow": {
     "slide_type": "slide"
    }
   },
   "source": [
    "# Simple MAUP Explaination\n",
    "<img src=\"https://bloximages.chicago2.vip.townnews.com/kansan.com/content/tncms/assets/v3/editorial/d/53/d53c2c1e-e876-11e8-b64d-1fdc611ff942/5beccdadd8a13.image.jpg\" alt=\"MAUP\" width=\"400\" />\n",
    "\n"
   ]
  },
  {
   "cell_type": "markdown",
   "metadata": {
    "slideshow": {
     "slide_type": "slide"
    }
   },
   "source": [
    "# Review\n",
    "* Median, mode, and mean are used to measure central tendency\n",
    "* Measures of dispersion is determined based on relative variability, standard deviation, and variance\n",
    "* Boundary delineation, modifiable areal units, and spatial aggregation are all measurements of shape or relative position"
   ]
  },
  {
   "cell_type": "code",
   "execution_count": null,
   "metadata": {},
   "outputs": [],
   "source": []
  }
 ],
 "metadata": {
  "celltoolbar": "Slideshow",
  "kernelspec": {
   "display_name": "Python 3",
   "language": "python",
   "name": "python3"
  },
  "language_info": {
   "codemirror_mode": {
    "name": "ipython",
    "version": 3
   },
   "file_extension": ".py",
   "mimetype": "text/x-python",
   "name": "python",
   "nbconvert_exporter": "python",
   "pygments_lexer": "ipython3",
   "version": "3.6.8"
  }
 },
 "nbformat": 4,
 "nbformat_minor": 2
}
