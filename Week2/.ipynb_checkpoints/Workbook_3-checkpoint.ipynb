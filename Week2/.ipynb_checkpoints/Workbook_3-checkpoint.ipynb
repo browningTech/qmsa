{
 "cells": [
  {
   "cell_type": "code",
   "execution_count": 9,
   "metadata": {},
   "outputs": [
    {
     "data": {
      "text/html": [
       "<div>\n",
       "<style scoped>\n",
       "    .dataframe tbody tr th:only-of-type {\n",
       "        vertical-align: middle;\n",
       "    }\n",
       "\n",
       "    .dataframe tbody tr th {\n",
       "        vertical-align: top;\n",
       "    }\n",
       "\n",
       "    .dataframe thead th {\n",
       "        text-align: right;\n",
       "    }\n",
       "</style>\n",
       "<table border=\"1\" class=\"dataframe\">\n",
       "  <thead>\n",
       "    <tr style=\"text-align: right;\">\n",
       "      <th></th>\n",
       "      <th>State</th>\n",
       "      <th>Number of Farms 1930</th>\n",
       "      <th>Number of Farms 1970</th>\n",
       "      <th>Number of Farms 2010</th>\n",
       "      <th>Percent Urban 1930</th>\n",
       "      <th>Percent Urban 1970</th>\n",
       "      <th>Percent Urban 2010</th>\n",
       "      <th>Total Population 1930</th>\n",
       "      <th>Total Population 1960</th>\n",
       "      <th>Total Population 2010</th>\n",
       "      <th>Zone</th>\n",
       "      <th>Rank</th>\n",
       "    </tr>\n",
       "  </thead>\n",
       "  <tbody>\n",
       "    <tr>\n",
       "      <th>0</th>\n",
       "      <td>Arizona</td>\n",
       "      <td>11</td>\n",
       "      <td>7</td>\n",
       "      <td>16</td>\n",
       "      <td>0.344</td>\n",
       "      <td>0.796</td>\n",
       "      <td>0.8981</td>\n",
       "      <td>435573</td>\n",
       "      <td>1772482</td>\n",
       "      <td>6412700</td>\n",
       "      <td>WEST</td>\n",
       "      <td>16</td>\n",
       "    </tr>\n",
       "    <tr>\n",
       "      <th>1</th>\n",
       "      <td>California</td>\n",
       "      <td>136</td>\n",
       "      <td>99</td>\n",
       "      <td>82</td>\n",
       "      <td>0.733</td>\n",
       "      <td>0.909</td>\n",
       "      <td>0.9090</td>\n",
       "      <td>5677251</td>\n",
       "      <td>19971069</td>\n",
       "      <td>37341989</td>\n",
       "      <td>WEST</td>\n",
       "      <td>82</td>\n",
       "    </tr>\n",
       "    <tr>\n",
       "      <th>2</th>\n",
       "      <td>Colorado</td>\n",
       "      <td>58</td>\n",
       "      <td>33</td>\n",
       "      <td>36</td>\n",
       "      <td>0.502</td>\n",
       "      <td>0.785</td>\n",
       "      <td>0.8615</td>\n",
       "      <td>1035791</td>\n",
       "      <td>2207259</td>\n",
       "      <td>5044930</td>\n",
       "      <td>WEST</td>\n",
       "      <td>36</td>\n",
       "    </tr>\n",
       "    <tr>\n",
       "      <th>3</th>\n",
       "      <td>Idaho</td>\n",
       "      <td>40</td>\n",
       "      <td>34</td>\n",
       "      <td>26</td>\n",
       "      <td>0.291</td>\n",
       "      <td>0.541</td>\n",
       "      <td>0.7058</td>\n",
       "      <td>445032</td>\n",
       "      <td>713008</td>\n",
       "      <td>1573499</td>\n",
       "      <td>WEST</td>\n",
       "      <td>26</td>\n",
       "    </tr>\n",
       "    <tr>\n",
       "      <th>4</th>\n",
       "      <td>Montana</td>\n",
       "      <td>47</td>\n",
       "      <td>29</td>\n",
       "      <td>29</td>\n",
       "      <td>0.337</td>\n",
       "      <td>0.534</td>\n",
       "      <td>0.5589</td>\n",
       "      <td>537606</td>\n",
       "      <td>694409</td>\n",
       "      <td>994416</td>\n",
       "      <td>WEST</td>\n",
       "      <td>29</td>\n",
       "    </tr>\n",
       "  </tbody>\n",
       "</table>\n",
       "</div>"
      ],
      "text/plain": [
       "        State  Number of Farms 1930  Number of Farms 1970  \\\n",
       "0     Arizona                    11                     7   \n",
       "1  California                   136                    99   \n",
       "2    Colorado                    58                    33   \n",
       "3       Idaho                    40                    34   \n",
       "4     Montana                    47                    29   \n",
       "\n",
       "   Number of Farms 2010  Percent Urban 1930   Percent Urban 1970  \\\n",
       "0                    16               0.344                0.796   \n",
       "1                    82               0.733                0.909   \n",
       "2                    36               0.502                0.785   \n",
       "3                    26               0.291                0.541   \n",
       "4                    29               0.337                0.534   \n",
       "\n",
       "   Percent Urban 2010  Total Population 1930  Total Population 1960  \\\n",
       "0              0.8981                 435573                1772482   \n",
       "1              0.9090                5677251               19971069   \n",
       "2              0.8615                1035791                2207259   \n",
       "3              0.7058                 445032                 713008   \n",
       "4              0.5589                 537606                 694409   \n",
       "\n",
       "   Total Population 2010  Zone  Rank  \n",
       "0                6412700  WEST    16  \n",
       "1               37341989  WEST    82  \n",
       "2                5044930  WEST    36  \n",
       "3                1573499  WEST    26  \n",
       "4                 994416  WEST    29  "
      ]
     },
     "execution_count": 9,
     "metadata": {},
     "output_type": "execute_result"
    }
   ],
   "source": [
    "import pandas as pd\n",
    "USDATA = pd.read_excel('../data/workbook-data-v2.xlsx', sheet_name=\"Chapter 3 - US Data\")\n",
    "USDATA.head()"
   ]
  },
  {
   "cell_type": "code",
   "execution_count": 7,
   "metadata": {},
   "outputs": [
    {
     "data": {
      "text/plain": [
       "132.1875"
      ]
     },
     "execution_count": 7,
     "metadata": {},
     "output_type": "execute_result"
    }
   ],
   "source": [
    "USDATA[\"Number of Farms 1930\"].mean()"
   ]
  },
  {
   "cell_type": "code",
   "execution_count": 8,
   "metadata": {},
   "outputs": [
    {
     "data": {
      "text/plain": [
       "0.6879610255755118"
      ]
     },
     "execution_count": 8,
     "metadata": {},
     "output_type": "execute_result"
    }
   ],
   "source": [
    "USDATA[\"Number of Farms 1930\"].skew()"
   ]
  },
  {
   "cell_type": "code",
   "execution_count": null,
   "metadata": {},
   "outputs": [],
   "source": []
  }
 ],
 "metadata": {
  "kernelspec": {
   "display_name": "Python 3",
   "language": "python",
   "name": "python3"
  },
  "language_info": {
   "codemirror_mode": {
    "name": "ipython",
    "version": 3
   },
   "file_extension": ".py",
   "mimetype": "text/x-python",
   "name": "python",
   "nbconvert_exporter": "python",
   "pygments_lexer": "ipython3",
   "version": "3.6.8"
  }
 },
 "nbformat": 4,
 "nbformat_minor": 2
}
